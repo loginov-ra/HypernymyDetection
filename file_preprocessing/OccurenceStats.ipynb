{
 "cells": [
  {
   "cell_type": "markdown",
   "metadata": {},
   "source": [
    "### Статистика встречаемости"
   ]
  },
  {
   "cell_type": "code",
   "execution_count": 1,
   "metadata": {},
   "outputs": [],
   "source": [
    "import sys\n",
    "sys.path.append('../')"
   ]
  },
  {
   "cell_type": "code",
   "execution_count": 31,
   "metadata": {},
   "outputs": [],
   "source": [
    "from thesaurus_parsing.thesaurus_parser import ThesaurusParser\n",
    "from projection_model.models import make_model_vocab\n",
    "from tqdm import tqdm_notebook as tqdm\n",
    "import os\n",
    "import json\n",
    "from matplotlib import pyplot as plt\n",
    "import numpy as np\n",
    "\n",
    "%matplotlib inline"
   ]
  },
  {
   "cell_type": "markdown",
   "metadata": {},
   "source": [
    "На текущий момент обработаны только статьи из датасета \"Ленты\". Качество обученных моделей на этом наборе текстов оказывается низким при применении к тезаурусу Лукашевич.\n",
    "\n",
    "Возможно, это из-за того, что встречаемости в текстах недостаточно для того, чтобы уловить закономерности в паттернах.\n",
    "\n",
    "Проверим это в явном виде."
   ]
  },
  {
   "cell_type": "code",
   "execution_count": 3,
   "metadata": {},
   "outputs": [],
   "source": [
    "thesaurus = ThesaurusParser(\"../data/RuThes\", need_closure=False, verbose=True)"
   ]
  },
  {
   "cell_type": "code",
   "execution_count": 4,
   "metadata": {},
   "outputs": [
    {
     "name": "stderr",
     "output_type": "stream",
     "text": [
      "Warning : `load_model` does not return WordVectorModel or SupervisedModel any more, but a `FastText` object which is very similar.\n"
     ]
    },
    {
     "data": {
      "application/vnd.jupyter.widget-view+json": {
       "model_id": "600cb8e7a0ce415ea3c767b9ab0ca943"
      }
     },
     "metadata": {},
     "output_type": "display_data"
    },
    {
     "name": "stdout",
     "output_type": "stream",
     "text": [
      "\n"
     ]
    }
   ],
   "source": [
    "vocab = make_model_vocab()"
   ]
  },
  {
   "cell_type": "code",
   "execution_count": 7,
   "metadata": {},
   "outputs": [],
   "source": [
    "DIR_PATH = \"/home/loginov-ra/MIPT/HypernymyDetection/data/Lenta/texts_tagged_processed_tree\"\n",
    "file_list = os.listdir(DIR_PATH)\n",
    "file_list = [os.path.join(DIR_PATH, filename) for filename in file_list]"
   ]
  },
  {
   "cell_type": "markdown",
   "metadata": {},
   "source": [
    "Пройдёмся по текстам и соберём статистику встречаемости"
   ]
  },
  {
   "cell_type": "code",
   "execution_count": 10,
   "metadata": {},
   "outputs": [],
   "source": [
    "def is_hyponym_hypernym(hypo_cand, hyper_cand):\n",
    "    if hypo_cand not in thesaurus.hypernyms_dict:\n",
    "        return False\n",
    "    return hyper_cand in thesaurus.hypernyms_dict[hypo_cand]"
   ]
  },
  {
   "cell_type": "code",
   "execution_count": 11,
   "metadata": {},
   "outputs": [],
   "source": [
    "def get_hypernymy_pairs(multitokens):\n",
    "    pairs = []\n",
    "    for i, hypernym_candidate in enumerate(multitokens):\n",
    "        for j, hyponym_candidate in enumerate(multitokens):\n",
    "            if i == j:\n",
    "                continue\n",
    "            if is_hyponym_hypernym(hyponym_candidate, hypernym_candidate):\n",
    "                pairs.append((j, i))\n",
    "    return pairs"
   ]
  },
  {
   "cell_type": "code",
   "execution_count": 12,
   "metadata": {},
   "outputs": [],
   "source": [
    "thesaurus_vocab = set()"
   ]
  },
  {
   "cell_type": "code",
   "execution_count": 14,
   "metadata": {},
   "outputs": [],
   "source": [
    "for hyponym, hypernyms in thesaurus.hypernyms_dict.items():\n",
    "    thesaurus_vocab.add(thesaurus)\n",
    "    for hypernym in hypernyms:\n",
    "        thesaurus_vocab.add(hypernym)"
   ]
  },
  {
   "cell_type": "code",
   "execution_count": 15,
   "metadata": {},
   "outputs": [
    {
     "data": {
      "text/plain": [
       "51569"
      ]
     },
     "execution_count": 15,
     "metadata": {},
     "output_type": "execute_result"
    }
   ],
   "source": [
    "len(thesaurus_vocab)"
   ]
  },
  {
   "cell_type": "code",
   "execution_count": 68,
   "metadata": {},
   "outputs": [],
   "source": [
    "occured_in_text = set()\n",
    "occured_in_hypernymy = set()\n",
    "\n",
    "occurences_per_file = []\n",
    "hypernymy_occurences_per_file = []"
   ]
  },
  {
   "cell_type": "code",
   "execution_count": 69,
   "metadata": {},
   "outputs": [
    {
     "data": {
      "application/vnd.jupyter.widget-view+json": {
       "model_id": "b3ea06e38edc410cb88115180a8592b6"
      }
     },
     "metadata": {},
     "output_type": "display_data"
    },
    {
     "name": "stdout",
     "output_type": "stream",
     "text": [
      "\n"
     ]
    }
   ],
   "source": [
    "for filename in tqdm(file_list):\n",
    "    with open(filename, encoding='utf-8') as sentences_file:\n",
    "        occurences = set()\n",
    "        pair_occurences = set()\n",
    "        \n",
    "        sentences = json.load(sentences_file)\n",
    "        for sent in sentences:\n",
    "            if 'deeppavlov' not in sent:\n",
    "                continue\n",
    "            \n",
    "            multitokens, main_pos = sent['multi']\n",
    "            \n",
    "            if len(multitokens) > 100:\n",
    "                continue\n",
    "            \n",
    "            in_vocab = [token in thesaurus_vocab for token in multitokens]\n",
    "            \n",
    "            for word in multitokens:\n",
    "                if word in thesaurus_vocab:\n",
    "                    occured_in_text.add(word)\n",
    "                    occurences.add(word)\n",
    "            \n",
    "            for pattern_pair in get_hypernymy_pairs(multitokens):\n",
    "                hypo_multi, hyper_multi = pattern_pair\n",
    "                occured_in_hypernymy.add(multitokens[hypo_multi])\n",
    "                occured_in_hypernymy.add(multitokens[hyper_multi])\n",
    "                pair_occurences.add(multitokens[hypo_multi] + ' ' + multitokens[hyper_multi])\n",
    "        \n",
    "        occurences_per_file.append(len(occurences))\n",
    "        hypernymy_occurences_per_file.append(len(pair_occurences))"
   ]
  },
  {
   "cell_type": "markdown",
   "metadata": {},
   "source": [
    "Сначала посмотрим на то, сколько вообще встречается различных гипонимов-гиперонимов"
   ]
  },
  {
   "cell_type": "code",
   "execution_count": 70,
   "metadata": {},
   "outputs": [
    {
     "data": {
      "text/plain": [
       "23757"
      ]
     },
     "execution_count": 70,
     "metadata": {},
     "output_type": "execute_result"
    }
   ],
   "source": [
    "len(occured_in_text)"
   ]
  },
  {
   "cell_type": "markdown",
   "metadata": {},
   "source": [
    "Это всего около трети от общего количества слов. А сколько всего встречается в парах с гиперонимами?"
   ]
  },
  {
   "cell_type": "code",
   "execution_count": 71,
   "metadata": {},
   "outputs": [
    {
     "data": {
      "text/plain": [
       "12530"
      ]
     },
     "execution_count": 71,
     "metadata": {},
     "output_type": "execute_result"
    }
   ],
   "source": [
    "len(occured_in_hypernymy)"
   ]
  },
  {
   "cell_type": "markdown",
   "metadata": {},
   "source": [
    "Это ещё в 2 раза меньше"
   ]
  },
  {
   "cell_type": "markdown",
   "metadata": {},
   "source": [
    "Посмотрим теперь на то, какие тексты содержат много пар с гиперонимией из тезауруса"
   ]
  },
  {
   "cell_type": "code",
   "execution_count": 72,
   "metadata": {},
   "outputs": [
    {
     "data": {
      "image/png": "[encoded data removed]",
      "text/plain": [
       "<Figure size 864x504 with 1 Axes>"
      ]
     },
     "metadata": {
      "needs_background": "light"
     },
     "output_type": "display_data"
    }
   ],
   "source": [
    "plt.figure(figsize=(12, 7))\n",
    "plt.plot(np.array(hypernymy_occurences_per_file))\n",
    "plt.show()"
   ]
  },
  {
   "cell_type": "code",
   "execution_count": 74,
   "metadata": {},
   "outputs": [
    {
     "data": {
      "image/png": "[encoded data removed]",
      "text/plain": [
       "<Figure size 864x504 with 1 Axes>"
      ]
     },
     "metadata": {
      "needs_background": "light"
     },
     "output_type": "display_data"
    }
   ],
   "source": [
    "plt.figure(figsize=(12, 7))\n",
    "plt.title(\"Гистограмма встречаемости в текстах\", fontsize=18)\n",
    "plt.hist(np.array(hypernymy_occurences_per_file), bins=20)\n",
    "plt.axvline(15, ls='--', color='red', label=\"Часто встречающиеся\", lw=2)\n",
    "plt.xlabel('Количество пар в тексте', fontsize=15)\n",
    "plt.ylim((0, 100))\n",
    "plt.legend(fontsize=15)\n",
    "plt.show()"
   ]
  },
  {
   "cell_type": "markdown",
   "metadata": {},
   "source": [
    "Хочется посмотреть, а что это за файлы такие, и куда копать в поисках хорошего датасета"
   ]
  },
  {
   "cell_type": "code",
   "execution_count": 88,
   "metadata": {},
   "outputs": [
    {
     "name": "stdout",
     "output_type": "stream",
     "text": [
      "/home/loginov-ra/MIPT/HypernymyDetection/data/Lenta/texts_tagged_processed_tree/20131002wavesreturn.txt_processed.json\n",
      "/home/loginov-ra/MIPT/HypernymyDetection/data/Lenta/texts_tagged_processed_tree/20160602patrio.txt_processed.json\n",
      "/home/loginov-ra/MIPT/HypernymyDetection/data/Lenta/texts_tagged_processed_tree/20160209centrobankkolekrory.txt_processed.json\n",
      "/home/loginov-ra/MIPT/HypernymyDetection/data/Lenta/texts_tagged_processed_tree/20130305petition.txt_processed.json\n",
      "/home/loginov-ra/MIPT/HypernymyDetection/data/Lenta/texts_tagged_processed_tree/20120201clapper.txt_processed.json\n",
      "/home/loginov-ra/MIPT/HypernymyDetection/data/Lenta/texts_tagged_processed_tree/20130404freevak.txt_processed.json\n"
     ]
    }
   ],
   "source": [
    "freq_filenames = []\n",
    "\n",
    "for file, occurences in zip(file_list, hypernymy_occurences_per_file):\n",
    "    if occurences >= 20:\n",
    "        freq_filenames.append(file)\n",
    "        print(file)"
   ]
  },
  {
   "cell_type": "code",
   "execution_count": 90,
   "metadata": {
    "scrolled": false
   },
   "outputs": [
    {
     "name": "stdout",
     "output_type": "stream",
     "text": [
      "ссылка --> привести\n",
      "открытие --> сделать\n",
      "открытие --> действие\n",
      "плоскость --> поверхность\n",
      "позиция --> быть\n",
      "феномен --> явление\n",
      "физический величина --> параметр\n",
      "волна --> волновой\n",
      "существовать --> быть\n",
      "волновой --> волна\n",
      "возникать --> быть\n",
      "появление --> быть\n",
      "волна --> волна\n",
      "возникновение --> быть\n",
      "наличие --> быть\n",
      "капля --> частица\n",
      "прыгать --> перемещаться\n",
      "показать --> описать\n",
      "короткий --> маленький\n",
      "капля --> жидкость\n",
      "подскакивание --> прыгать\n",
      "волна --> волна\n",
      "\n",
      "решение --> выбор\n",
      "другой --> связь\n",
      "быть --> связь\n",
      "участие --> связь\n",
      "россия --> государство\n",
      "россия --> страна\n",
      "быть --> быть\n",
      "продолжаться --> быть\n",
      "быть --> находиться\n",
      "россия --> национальный\n",
      "остаться --> быть\n",
      "организовать --> создать\n",
      "организовать --> реализация\n",
      "осуществление --> быть\n",
      "быть --> быть\n",
      "стратегия --> программа\n",
      "программа --> план\n",
      "выработать --> создать\n",
      "проект --> план\n",
      "стратегия --> план\n",
      "проводить --> реализовать\n",
      "партия --> общественный объединение\n",
      "\n",
      "ставка --> допускать\n",
      "просрочить --> нарушение\n",
      "получить --> связь\n",
      "жизненный --> необходимость\n",
      "ставка --> финансовый\n",
      "уровень --> размер\n",
      "процент --> ставка\n",
      "мочь --> обладать\n",
      "низкий --> размер\n",
      "ставка --> размер\n",
      "коллектор --> организация\n",
      "финансовый организация --> организация\n",
      "клиент --> потребительский\n",
      "уровень --> размер\n",
      "выдавать --> представить\n",
      "представить --> просить\n",
      "процентный --> ставка\n",
      "предложение --> просить\n",
      "ставка --> размер\n",
      "работа --> деятельность\n",
      "появиться --> произойти\n",
      "вернуть --> заставить\n",
      "\n",
      "размещение --> быть\n",
      "управление --> направлять\n",
      "фонд --> ресурс\n",
      "предложение --> предлагать\n",
      "демократия --> принцип\n",
      "предложение --> предложение\n",
      "течение --> проходить\n",
      "в электронный вид --> документ\n",
      "мера --> количество\n",
      "сообщество --> общественный объединение\n",
      "группа --> состав\n",
      "федеральный орган исполнительный власть --> федеральный\n",
      "писать --> создание\n",
      "быть --> связь\n",
      "финансирование --> обеспечивать\n",
      "проект --> работа\n",
      "позиция --> быть\n",
      "экспертиза --> рассмотрение\n",
      "источник --> информация\n",
      "сообщение --> информация\n",
      "продолжать --> деятельность\n",
      "отменить --> объявить\n",
      "\n",
      "появление --> быть\n",
      "ввести --> начать\n",
      "предпринять --> начать\n",
      "провести --> помочь\n",
      "провести --> перекрыть\n",
      "оаэ --> арабский государство\n",
      "кувейт --> арабский государство\n",
      "подготовить --> учение\n",
      "запас --> ресурс\n",
      "руководство --> направить\n",
      "руководство --> группа\n",
      "провести --> создать\n",
      "оман --> арабский государство\n",
      "саудовский аравия --> арабский государство\n",
      "регион --> территория\n",
      "провести --> подготовить\n",
      "позиция --> быть\n",
      "отмечаться --> быть\n",
      "отмечаться --> установить\n",
      "запас --> быть\n",
      "\n",
      "журнал --> публикация\n",
      "журнал --> издание\n",
      "высокий --> статус\n",
      "издание --> публикация\n",
      "пройти --> быть\n",
      "один --> количество\n",
      "издание --> публикация\n",
      "соискатель --> кандидатский\n",
      "журнал --> издание\n",
      "магистр --> степень\n",
      "кандидат наука --> степень\n",
      "бакалавр --> степень\n",
      "доктор --> степень\n",
      "доктор наука --> степень\n",
      "доктор --> степень\n",
      "доктор наука --> степень\n",
      "кандидат --> степень\n",
      "найти --> выявить\n",
      "защититься --> приводить\n",
      "обсуждение --> говорить\n",
      "число --> качество\n",
      "ряд --> состав\n",
      "быть --> быть\n",
      "совет --> обсуждение\n",
      "степень --> качество\n",
      "институт --> вуз\n",
      "система --> состав\n",
      "качество --> степень\n",
      "\n"
     ]
    }
   ],
   "source": [
    "for filename in freq_filenames:\n",
    "    with open(filename, encoding='utf-8') as sentences_file:\n",
    "        n_occurences = 0\n",
    "        n_pair_occurences = 0\n",
    "\n",
    "        sentences = json.load(sentences_file)\n",
    "        for sent in sentences:\n",
    "            if 'deeppavlov' not in sent:\n",
    "                continue\n",
    "\n",
    "            multitokens, main_pos = sent['multi']\n",
    "\n",
    "            if len(multitokens) > 100:\n",
    "                continue\n",
    "\n",
    "            in_vocab = [token in thesaurus_vocab for token in multitokens]\n",
    "\n",
    "            for word in multitokens:\n",
    "                if word in thesaurus_vocab:\n",
    "                    occured_in_text.add(word)\n",
    "                    n_occurences += 1\n",
    "\n",
    "            pairs = set()\n",
    "\n",
    "            for pattern_pair in get_hypernymy_pairs(multitokens):\n",
    "                hypo_multi, hyper_multi = pattern_pair\n",
    "                p = \"{} --> {}\".format(multitokens[hypo_multi], multitokens[hyper_multi])\n",
    "                pairs.add(p)\n",
    "\n",
    "            for p in pairs:\n",
    "                print(p)\n",
    "        print()"
   ]
  },
  {
   "cell_type": "markdown",
   "metadata": {},
   "source": [
    "География;Финансы;Наука"
   ]
  }
 ],
 "metadata": {
  "kernelspec": {
   "display_name": "Python 3",
   "language": "python",
   "name": "python3"
  },
  "language_info": {
   "codemirror_mode": {
    "name": "ipython",
    "version": 3
   },
   "file_extension": ".py",
   "mimetype": "text/x-python",
   "name": "python",
   "nbconvert_exporter": "python",
   "pygments_lexer": "ipython3",
   "version": "3.6.9"
  }
 },
 "nbformat": 4,
 "nbformat_minor": 2
}
