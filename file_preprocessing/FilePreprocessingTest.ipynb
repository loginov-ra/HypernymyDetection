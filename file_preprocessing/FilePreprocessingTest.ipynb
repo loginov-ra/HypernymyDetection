{
 "cells": [
  {
   "cell_type": "code",
   "execution_count": 2,
   "metadata": {},
   "outputs": [],
   "source": [
    "import sys\n",
    "sys.path.append(\"../\")\n",
    "from thesaurus_parsing.thesaurus_parser import ThesaurusParser\n",
    "from deeppavlov import build_model, configs"
   ]
  },
  {
   "cell_type": "code",
   "execution_count": 3,
   "metadata": {},
   "outputs": [],
   "source": [
    "thesaurus = ThesaurusParser(\"../data/RuThes\", need_closure=False, verbose=True)"
   ]
  },
  {
   "cell_type": "code",
   "execution_count": 4,
   "metadata": {},
   "outputs": [
    {
     "name": "stderr",
     "output_type": "stream",
     "text": [
      "[nltk_data] Downloading package punkt to /home/loginov-ra/nltk_data...\n",
      "[nltk_data]   Package punkt is already up-to-date!\n",
      "[nltk_data] Downloading package stopwords to /home/loginov-\n",
      "[nltk_data]     ra/nltk_data...\n",
      "[nltk_data]   Package stopwords is already up-to-date!\n",
      "[nltk_data] Downloading package perluniprops to /home/loginov-\n",
      "[nltk_data]     ra/nltk_data...\n",
      "[nltk_data]   Package perluniprops is already up-to-date!\n",
      "[nltk_data] Downloading package nonbreaking_prefixes to /home/loginov-\n",
      "[nltk_data]     ra/nltk_data...\n",
      "[nltk_data]   Package nonbreaking_prefixes is already up-to-date!\n"
     ]
    },
    {
     "name": "stdout",
     "output_type": "stream",
     "text": [
      "WARNING:tensorflow:From /usr/local/lib/python3.6/dist-packages/bert_dp/tokenization.py:125: The name tf.gfile.GFile is deprecated. Please use tf.io.gfile.GFile instead.\n",
      "\n"
     ]
    },
    {
     "name": "stderr",
     "output_type": "stream",
     "text": [
      "2020-04-07 14:18:11.425 INFO in 'deeppavlov.core.data.simple_vocab'['simple_vocab'] at line 115: [loading vocabulary from /home/loginov-ra/.deeppavlov/models/morpho_ru_syntagrus/tag.dict]\n"
     ]
    },
    {
     "name": "stdout",
     "output_type": "stream",
     "text": [
      "WARNING:tensorflow:From /home/loginov-ra/.local/lib/python3.6/site-packages/deeppavlov/core/models/tf_model.py:37: The name tf.Session is deprecated. Please use tf.compat.v1.Session instead.\n",
      "\n",
      "WARNING:tensorflow:From /home/loginov-ra/.local/lib/python3.6/site-packages/deeppavlov/core/models/tf_model.py:222: The name tf.placeholder is deprecated. Please use tf.compat.v1.placeholder instead.\n",
      "\n",
      "WARNING:tensorflow:From /home/loginov-ra/.local/lib/python3.6/site-packages/deeppavlov/core/models/tf_model.py:222: The name tf.train.Optimizer is deprecated. Please use tf.compat.v1.train.Optimizer instead.\n",
      "\n",
      "WARNING:tensorflow:From /home/loginov-ra/.local/lib/python3.6/site-packages/deeppavlov/core/models/tf_model.py:193: The name tf.train.AdamOptimizer is deprecated. Please use tf.compat.v1.train.AdamOptimizer instead.\n",
      "\n",
      "WARNING:tensorflow:From /home/loginov-ra/.local/lib/python3.6/site-packages/deeppavlov/models/bert/bert_sequence_tagger.py:236: The name tf.ConfigProto is deprecated. Please use tf.compat.v1.ConfigProto instead.\n",
      "\n",
      "WARNING:tensorflow:From /home/loginov-ra/.local/lib/python3.6/site-packages/deeppavlov/models/bert/bert_sequence_tagger.py:314: The name tf.placeholder_with_default is deprecated. Please use tf.compat.v1.placeholder_with_default instead.\n",
      "\n"
     ]
    },
    {
     "name": "stderr",
     "output_type": "stream",
     "text": [
      "Using TensorFlow backend.\n"
     ]
    },
    {
     "name": "stdout",
     "output_type": "stream",
     "text": [
      "WARNING:tensorflow:From /usr/local/lib/python3.6/dist-packages/bert_dp/modeling.py:178: The name tf.variable_scope is deprecated. Please use tf.compat.v1.variable_scope instead.\n",
      "\n",
      "WARNING:tensorflow:\n",
      "The TensorFlow contrib module will not be included in TensorFlow 2.0.\n",
      "For more information, please see:\n",
      "  * https://github.com/tensorflow/community/blob/master/rfcs/20180907-contrib-sunset.md\n",
      "  * https://github.com/tensorflow/addons\n",
      "  * https://github.com/tensorflow/io (for I/O related ops)\n",
      "If you depend on functionality not listed there, please file an issue.\n",
      "\n",
      "WARNING:tensorflow:From /usr/local/lib/python3.6/dist-packages/bert_dp/modeling.py:366: calling dropout (from tensorflow.python.ops.nn_ops) with keep_prob is deprecated and will be removed in a future version.\n",
      "Instructions for updating:\n",
      "Please use `rate` instead of `keep_prob`. Rate should be set to `rate = 1 - keep_prob`.\n",
      "WARNING:tensorflow:From /usr/local/lib/python3.6/dist-packages/bert_dp/modeling.py:680: dense (from tensorflow.python.layers.core) is deprecated and will be removed in a future version.\n",
      "Instructions for updating:\n",
      "Use keras.layers.dense instead.\n",
      "WARNING:tensorflow:Variable *= will be deprecated. Use `var.assign(var * other)` if you want assignment to the variable value or `x = x * y` if you want a new python Tensor object.\n",
      "WARNING:tensorflow:From /usr/local/lib/python3.6/dist-packages/tensorflow/python/ops/init_ops.py:1251: calling VarianceScaling.__init__ (from tensorflow.python.ops.init_ops) with dtype is deprecated and will be removed in a future version.\n",
      "Instructions for updating:\n",
      "Call initializer instance with the dtype argument instead of passing it to the constructor\n",
      "WARNING:tensorflow:From /home/loginov-ra/.local/lib/python3.6/site-packages/deeppavlov/models/bert/bert_sequence_tagger.py:75: add_dispatch_support.<locals>.wrapper (from tensorflow.python.ops.array_ops) is deprecated and will be removed in a future version.\n",
      "Instructions for updating:\n",
      "Use tf.where in 2.0, which has the same broadcast rule as np.where\n",
      "WARNING:tensorflow:From /home/loginov-ra/.local/lib/python3.6/site-packages/deeppavlov/models/bert/bert_sequence_tagger.py:571: The name tf.losses.sparse_softmax_cross_entropy is deprecated. Please use tf.compat.v1.losses.sparse_softmax_cross_entropy instead.\n",
      "\n",
      "WARNING:tensorflow:From /home/loginov-ra/.local/lib/python3.6/site-packages/deeppavlov/models/bert/bert_sequence_tagger.py:249: checkpoint_exists (from tensorflow.python.training.checkpoint_management) is deprecated and will be removed in a future version.\n",
      "Instructions for updating:\n",
      "Use standard file APIs to check for files with this prefix.\n"
     ]
    },
    {
     "name": "stderr",
     "output_type": "stream",
     "text": [
      "2020-04-07 14:18:30.332 INFO in 'deeppavlov.core.models.tf_model'['tf_model'] at line 51: [loading model from /home/loginov-ra/.deeppavlov/models/morpho_ru_syntagrus/model]\n"
     ]
    },
    {
     "name": "stdout",
     "output_type": "stream",
     "text": [
      "WARNING:tensorflow:From /home/loginov-ra/.local/lib/python3.6/site-packages/deeppavlov/core/models/tf_model.py:54: The name tf.train.Saver is deprecated. Please use tf.compat.v1.train.Saver instead.\n",
      "\n",
      "INFO:tensorflow:Restoring parameters from /home/loginov-ra/.deeppavlov/models/morpho_ru_syntagrus/model\n"
     ]
    },
    {
     "name": "stderr",
     "output_type": "stream",
     "text": [
      "2020-04-07 14:18:33.212 WARNING in 'deeppavlov.core.models.serializable'['serializable'] at line 52: No load path is set for UDPymorphyLemmatizer!\n",
      "2020-04-07 14:18:33.618 INFO in 'deeppavlov.core.data.simple_vocab'['simple_vocab'] at line 115: [loading vocabulary from /home/loginov-ra/.deeppavlov/models/syntax_ru_syntagrus/deps.dict]\n"
     ]
    },
    {
     "name": "stdout",
     "output_type": "stream",
     "text": [
      "WARNING:tensorflow:From /home/loginov-ra/.local/lib/python3.6/site-packages/deeppavlov/core/layers/tf_layers.py:157: LSTMCell.__init__ (from tensorflow.python.ops.rnn_cell_impl) is deprecated and will be removed in a future version.\n",
      "Instructions for updating:\n",
      "This class is equivalent as tf.keras.layers.LSTMCell, and will be replaced by that in Tensorflow 2.0.\n",
      "WARNING:tensorflow:From /home/loginov-ra/.local/lib/python3.6/site-packages/deeppavlov/core/layers/tf_layers.py:177: bidirectional_dynamic_rnn (from tensorflow.python.ops.rnn) is deprecated and will be removed in a future version.\n",
      "Instructions for updating:\n",
      "Please use `keras.layers.Bidirectional(keras.layers.RNN(cell))`, which is equivalent to this API\n",
      "WARNING:tensorflow:From /usr/local/lib/python3.6/dist-packages/tensorflow/python/ops/rnn.py:464: dynamic_rnn (from tensorflow.python.ops.rnn) is deprecated and will be removed in a future version.\n",
      "Instructions for updating:\n",
      "Please use `keras.layers.RNN(cell)`, which is equivalent to this API\n",
      "WARNING:tensorflow:From /usr/local/lib/python3.6/dist-packages/tensorflow/python/ops/rnn_cell_impl.py:961: calling Zeros.__init__ (from tensorflow.python.ops.init_ops) with dtype is deprecated and will be removed in a future version.\n",
      "Instructions for updating:\n",
      "Call initializer instance with the dtype argument instead of passing it to the constructor\n"
     ]
    },
    {
     "name": "stderr",
     "output_type": "stream",
     "text": [
      "2020-04-07 14:18:55.883 INFO in 'deeppavlov.core.models.tf_model'['tf_model'] at line 51: [loading model from /home/loginov-ra/.deeppavlov/models/syntax_ru_syntagrus/model_joint]\n"
     ]
    },
    {
     "name": "stdout",
     "output_type": "stream",
     "text": [
      "INFO:tensorflow:Restoring parameters from /home/loginov-ra/.deeppavlov/models/syntax_ru_syntagrus/model_joint\n"
     ]
    }
   ],
   "source": [
    "model = build_model(configs.morpho_tagger.BERT.morpho_ru_syntagrus_bert, download=False)\n",
    "syntax_model = build_model(configs.syntax.syntax_ru_syntagrus_bert, download=False)"
   ]
  },
  {
   "cell_type": "code",
   "execution_count": 6,
   "metadata": {},
   "outputs": [],
   "source": [
    "import file_preprocessing\n",
    "import importlib\n",
    "fp = importlib.reload(file_preprocessing)"
   ]
  },
  {
   "cell_type": "code",
   "execution_count": 7,
   "metadata": {},
   "outputs": [],
   "source": [
    "sent_reader = fp.SentenceReader(thesaurus, need_deeppavlov=True, deeppavlov_model=model,\n",
    "                                syntax_model=syntax_model)"
   ]
  },
  {
   "cell_type": "markdown",
   "metadata": {},
   "source": [
    "Тест парсинга предложений из файла"
   ]
  },
  {
   "cell_type": "code",
   "execution_count": 8,
   "metadata": {},
   "outputs": [
    {
     "name": "stdout",
     "output_type": "stream",
     "text": [
      "Processed ../data/Lenta/texts_tagged/20121008webtop.txt. Recovered 5 sentences, lost 0 too long\n"
     ]
    }
   ],
   "source": [
    "parsed_sentences = sent_reader.process_file(\"../data/Lenta/texts_tagged/20121008webtop.txt\", verbose=True)"
   ]
  },
  {
   "cell_type": "code",
   "execution_count": 9,
   "metadata": {},
   "outputs": [
    {
     "data": {
      "text/plain": [
       "12"
      ]
     },
     "execution_count": 9,
     "metadata": {},
     "output_type": "execute_result"
    }
   ],
   "source": [
    "len(parsed_sentences)"
   ]
  },
  {
   "cell_type": "code",
   "execution_count": 10,
   "metadata": {
    "scrolled": true
   },
   "outputs": [
    {
     "name": "stdout",
     "output_type": "stream",
     "text": [
      "motorola mobility отказалась от проекта webtop , который развивала с начала 2011 года , передает cnet news со ссылкой на официальное заявление компании .\n",
      "платформа webtop позволяла владельцам смартфонов motorola на базе android работать с контентом телефона на большом экране - например , компьютерном мониторе , - поместив аппарат в специальную док - станцию .\n",
      "таким образом , смартфон выступал в роли системного блока .\n",
      "motorola выпускала несколько видов док - станций .\n",
      "одна из них носила название lapdock и имела вид ноутбука .\n",
      "\" мозгами \" ноутбука выступал смартфон .\n",
      "в заявлении motorola отмечается , что проект webtop не набрал того числа сторонников , на которое рассчитывала компания .\n",
      "еще одной причиной отказа от webtop стал тот факт , что android по набору возможностей становится все больше похожа на компьютерные \" операционки \" , указала motorola .\n",
      "компания подчеркнула , что технологию webtop не будут поддерживать новые смартфоны motorola : photon q , droid razr m , droid razr hd , droid razr maxx hd .\n",
      "проект webtop motorola анонсировала в январе 2011 года на выставке ces .\n",
      "первым устройством , которое можно было \" связать \" с большим экраном , стал аппарат atrix 4g .\n",
      "сразу же после запуска многие расценили webtop как попытку стереть грань между смартфонами и портативными компьютерами .\n"
     ]
    }
   ],
   "source": [
    "for sent in parsed_sentences:\n",
    "    print(' '.join(sent.init_tokens))"
   ]
  },
  {
   "cell_type": "code",
   "execution_count": 11,
   "metadata": {},
   "outputs": [
    {
     "data": {
      "text/plain": [
       "{'initial': ['motorola',\n",
       "  'mobility',\n",
       "  'отказалась',\n",
       "  'от',\n",
       "  'проекта',\n",
       "  'webtop',\n",
       "  ',',\n",
       "  'который',\n",
       "  'развивала',\n",
       "  'с',\n",
       "  'начала',\n",
       "  '2011',\n",
       "  'года',\n",
       "  ',',\n",
       "  'передает',\n",
       "  'cnet',\n",
       "  'news',\n",
       "  'со',\n",
       "  'ссылкой',\n",
       "  'на',\n",
       "  'официальное',\n",
       "  'заявление',\n",
       "  'компании',\n",
       "  '.'],\n",
       " 'tagged_lemma': ['motorola',\n",
       "  'mobility',\n",
       "  'отказываться',\n",
       "  'от',\n",
       "  'проект',\n",
       "  'webtop',\n",
       "  ',',\n",
       "  'который',\n",
       "  'развивать',\n",
       "  'с',\n",
       "  'начало',\n",
       "  '2011',\n",
       "  'год',\n",
       "  ',',\n",
       "  'передавать',\n",
       "  'cnet',\n",
       "  'news',\n",
       "  'с',\n",
       "  'ссылка',\n",
       "  'на',\n",
       "  'официальный',\n",
       "  'заявление',\n",
       "  'компания',\n",
       "  '.'],\n",
       " 'multi': [['motorola',\n",
       "   'mobility',\n",
       "   'отказаться',\n",
       "   'от',\n",
       "   'проект',\n",
       "   'webtop',\n",
       "   ',',\n",
       "   'который',\n",
       "   'развивать',\n",
       "   'с',\n",
       "   'начало',\n",
       "   '2011',\n",
       "   'год',\n",
       "   ',',\n",
       "   'передавать',\n",
       "   'cnet',\n",
       "   'news',\n",
       "   'с',\n",
       "   'ссылка',\n",
       "   'на',\n",
       "   'официальный',\n",
       "   'заявление',\n",
       "   'компания',\n",
       "   '.'],\n",
       "  [0,\n",
       "   1,\n",
       "   2,\n",
       "   3,\n",
       "   4,\n",
       "   5,\n",
       "   6,\n",
       "   7,\n",
       "   8,\n",
       "   9,\n",
       "   10,\n",
       "   11,\n",
       "   12,\n",
       "   13,\n",
       "   14,\n",
       "   15,\n",
       "   16,\n",
       "   17,\n",
       "   18,\n",
       "   19,\n",
       "   20,\n",
       "   21,\n",
       "   22,\n",
       "   23]],\n",
       " 'deeppavlov': ['motorola',\n",
       "  'mobility',\n",
       "  'отказаться',\n",
       "  'от',\n",
       "  'проект',\n",
       "  'webtop',\n",
       "  ',',\n",
       "  'который',\n",
       "  'развивать',\n",
       "  'с',\n",
       "  'начало',\n",
       "  '2011',\n",
       "  'год',\n",
       "  ',',\n",
       "  'передавать',\n",
       "  'cnet',\n",
       "  'news',\n",
       "  'с',\n",
       "  'ссылка',\n",
       "  'на',\n",
       "  'официальный',\n",
       "  'заявление',\n",
       "  'компания',\n",
       "  '.'],\n",
       " 'pos': ['X',\n",
       "  'X',\n",
       "  'VERB',\n",
       "  'ADP',\n",
       "  'NOUN',\n",
       "  'X',\n",
       "  'PUNCT',\n",
       "  'PRON',\n",
       "  'VERB',\n",
       "  'ADP',\n",
       "  'NOUN',\n",
       "  'NUM',\n",
       "  'NOUN',\n",
       "  'PUNCT',\n",
       "  'VERB',\n",
       "  'X',\n",
       "  'X',\n",
       "  'ADP',\n",
       "  'NOUN',\n",
       "  'ADP',\n",
       "  'ADJ',\n",
       "  'NOUN',\n",
       "  'NOUN',\n",
       "  'PUNCT'],\n",
       " 'syntax': ['0;2;nsubj;motorola',\n",
       "  '1;0;flat:foreign;mobility',\n",
       "  '2;-1;root;отказалась',\n",
       "  '3;4;case;от',\n",
       "  '4;2;obl;проекта',\n",
       "  '5;4;flat:foreign;webtop',\n",
       "  '6;8;punct;,',\n",
       "  '7;8;obj;который',\n",
       "  '8;4;acl:relcl;развивала',\n",
       "  '9;10;case;с',\n",
       "  '10;8;obl;начала',\n",
       "  '11;12;nummod;2011',\n",
       "  '12;10;nmod;года',\n",
       "  '13;14;punct;,',\n",
       "  '14;2;parataxis;передает',\n",
       "  '15;14;nsubj;cnet',\n",
       "  '16;15;flat:foreign;news',\n",
       "  '17;18;case;со',\n",
       "  '18;14;obl;ссылкой',\n",
       "  '19;21;case;на',\n",
       "  '20;21;amod;официальное',\n",
       "  '21;18;nmod;заявление',\n",
       "  '22;21;nmod;компании',\n",
       "  '23;2;punct;.']}"
      ]
     },
     "execution_count": 11,
     "metadata": {},
     "output_type": "execute_result"
    }
   ],
   "source": [
    "parsed_sentences[0].to_json()"
   ]
  },
  {
   "cell_type": "markdown",
   "metadata": {},
   "source": [
    "Тест обработки всех файлов в директории"
   ]
  },
  {
   "cell_type": "code",
   "execution_count": 12,
   "metadata": {},
   "outputs": [],
   "source": [
    "# fp.make_jsons_from_directory(sent_reader, \"test_from\", \"test_to_tree\", suffix=\"_with_tree\")"
   ]
  },
  {
   "cell_type": "code",
   "execution_count": null,
   "metadata": {},
   "outputs": [],
   "source": [
    "fp.make_jsons_from_directory(sent_reader, \"../data/Lenta/texts_tagged/\", \"../data/Lenta/texts_tagged_processed_tree/\")"
   ]
  },
  {
   "cell_type": "code",
   "execution_count": null,
   "metadata": {},
   "outputs": [],
   "source": []
  }
 ],
 "metadata": {
  "kernelspec": {
   "display_name": "Python 3",
   "language": "python",
   "name": "python3"
  },
  "language_info": {
   "codemirror_mode": {
    "name": "ipython",
    "version": 3
   },
   "file_extension": ".py",
   "mimetype": "text/x-python",
   "name": "python",
   "nbconvert_exporter": "python",
   "pygments_lexer": "ipython3",
   "version": "3.6.9"
  }
 },
 "nbformat": 4,
 "nbformat_minor": 2
}
