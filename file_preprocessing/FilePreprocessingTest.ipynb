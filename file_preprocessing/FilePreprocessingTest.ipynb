{
 "cells": [
  {
   "cell_type": "code",
   "execution_count": 1,
   "metadata": {},
   "outputs": [],
   "source": [
    "import sys\n",
    "sys.path.append(\"../\")\n",
    "from thesaurus_parsing.thesaurus_parser import ThesaurusParser\n",
    "from deeppavlov import build_model, configs"
   ]
  },
  {
   "cell_type": "code",
   "execution_count": 2,
   "metadata": {},
   "outputs": [],
   "source": [
    "thesaurus = ThesaurusParser(\"../data/RuThes\", need_closure=False, verbose=True)"
   ]
  },
  {
   "cell_type": "code",
   "execution_count": 3,
   "metadata": {},
   "outputs": [
    {
     "name": "stderr",
     "output_type": "stream",
     "text": [
      "[nltk_data] Downloading package punkt to /home/loginov-ra/nltk_data...\n",
      "[nltk_data]   Package punkt is already up-to-date!\n",
      "[nltk_data] Downloading package stopwords to /home/loginov-\n",
      "[nltk_data]     ra/nltk_data...\n",
      "[nltk_data]   Package stopwords is already up-to-date!\n",
      "[nltk_data] Downloading package perluniprops to /home/loginov-\n",
      "[nltk_data]     ra/nltk_data...\n",
      "[nltk_data]   Package perluniprops is already up-to-date!\n",
      "[nltk_data] Downloading package nonbreaking_prefixes to /home/loginov-\n",
      "[nltk_data]     ra/nltk_data...\n",
      "[nltk_data]   Package nonbreaking_prefixes is already up-to-date!\n"
     ]
    },
    {
     "name": "stdout",
     "output_type": "stream",
     "text": [
      "WARNING:tensorflow:From /usr/local/lib/python3.6/dist-packages/bert_dp/tokenization.py:125: The name tf.gfile.GFile is deprecated. Please use tf.io.gfile.GFile instead.\n",
      "\n"
     ]
    },
    {
     "name": "stderr",
     "output_type": "stream",
     "text": [
      "2020-03-28 13:51:01.380 INFO in 'deeppavlov.core.data.simple_vocab'['simple_vocab'] at line 115: [loading vocabulary from /home/loginov-ra/.deeppavlov/models/morpho_ru_syntagrus/tag.dict]\n"
     ]
    },
    {
     "name": "stdout",
     "output_type": "stream",
     "text": [
      "WARNING:tensorflow:From /home/loginov-ra/.local/lib/python3.6/site-packages/deeppavlov/core/models/tf_model.py:37: The name tf.Session is deprecated. Please use tf.compat.v1.Session instead.\n",
      "\n",
      "WARNING:tensorflow:From /home/loginov-ra/.local/lib/python3.6/site-packages/deeppavlov/core/models/tf_model.py:222: The name tf.placeholder is deprecated. Please use tf.compat.v1.placeholder instead.\n",
      "\n",
      "WARNING:tensorflow:From /home/loginov-ra/.local/lib/python3.6/site-packages/deeppavlov/core/models/tf_model.py:222: The name tf.train.Optimizer is deprecated. Please use tf.compat.v1.train.Optimizer instead.\n",
      "\n",
      "WARNING:tensorflow:From /home/loginov-ra/.local/lib/python3.6/site-packages/deeppavlov/core/models/tf_model.py:193: The name tf.train.AdamOptimizer is deprecated. Please use tf.compat.v1.train.AdamOptimizer instead.\n",
      "\n",
      "WARNING:tensorflow:From /home/loginov-ra/.local/lib/python3.6/site-packages/deeppavlov/models/bert/bert_sequence_tagger.py:236: The name tf.ConfigProto is deprecated. Please use tf.compat.v1.ConfigProto instead.\n",
      "\n",
      "WARNING:tensorflow:From /home/loginov-ra/.local/lib/python3.6/site-packages/deeppavlov/models/bert/bert_sequence_tagger.py:314: The name tf.placeholder_with_default is deprecated. Please use tf.compat.v1.placeholder_with_default instead.\n",
      "\n"
     ]
    },
    {
     "name": "stderr",
     "output_type": "stream",
     "text": [
      "Using TensorFlow backend.\n"
     ]
    },
    {
     "name": "stdout",
     "output_type": "stream",
     "text": [
      "WARNING:tensorflow:From /usr/local/lib/python3.6/dist-packages/bert_dp/modeling.py:178: The name tf.variable_scope is deprecated. Please use tf.compat.v1.variable_scope instead.\n",
      "\n",
      "WARNING:tensorflow:\n",
      "The TensorFlow contrib module will not be included in TensorFlow 2.0.\n",
      "For more information, please see:\n",
      "  * https://github.com/tensorflow/community/blob/master/rfcs/20180907-contrib-sunset.md\n",
      "  * https://github.com/tensorflow/addons\n",
      "  * https://github.com/tensorflow/io (for I/O related ops)\n",
      "If you depend on functionality not listed there, please file an issue.\n",
      "\n",
      "WARNING:tensorflow:From /usr/local/lib/python3.6/dist-packages/bert_dp/modeling.py:366: calling dropout (from tensorflow.python.ops.nn_ops) with keep_prob is deprecated and will be removed in a future version.\n",
      "Instructions for updating:\n",
      "Please use `rate` instead of `keep_prob`. Rate should be set to `rate = 1 - keep_prob`.\n",
      "WARNING:tensorflow:From /usr/local/lib/python3.6/dist-packages/bert_dp/modeling.py:680: dense (from tensorflow.python.layers.core) is deprecated and will be removed in a future version.\n",
      "Instructions for updating:\n",
      "Use keras.layers.dense instead.\n",
      "WARNING:tensorflow:Variable *= will be deprecated. Use `var.assign(var * other)` if you want assignment to the variable value or `x = x * y` if you want a new python Tensor object.\n",
      "WARNING:tensorflow:From /usr/local/lib/python3.6/dist-packages/tensorflow/python/ops/init_ops.py:1251: calling VarianceScaling.__init__ (from tensorflow.python.ops.init_ops) with dtype is deprecated and will be removed in a future version.\n",
      "Instructions for updating:\n",
      "Call initializer instance with the dtype argument instead of passing it to the constructor\n",
      "WARNING:tensorflow:From /home/loginov-ra/.local/lib/python3.6/site-packages/deeppavlov/models/bert/bert_sequence_tagger.py:75: add_dispatch_support.<locals>.wrapper (from tensorflow.python.ops.array_ops) is deprecated and will be removed in a future version.\n",
      "Instructions for updating:\n",
      "Use tf.where in 2.0, which has the same broadcast rule as np.where\n",
      "WARNING:tensorflow:From /home/loginov-ra/.local/lib/python3.6/site-packages/deeppavlov/models/bert/bert_sequence_tagger.py:571: The name tf.losses.sparse_softmax_cross_entropy is deprecated. Please use tf.compat.v1.losses.sparse_softmax_cross_entropy instead.\n",
      "\n",
      "WARNING:tensorflow:From /home/loginov-ra/.local/lib/python3.6/site-packages/deeppavlov/models/bert/bert_sequence_tagger.py:249: checkpoint_exists (from tensorflow.python.training.checkpoint_management) is deprecated and will be removed in a future version.\n",
      "Instructions for updating:\n",
      "Use standard file APIs to check for files with this prefix.\n"
     ]
    },
    {
     "name": "stderr",
     "output_type": "stream",
     "text": [
      "2020-03-28 13:51:20.779 INFO in 'deeppavlov.core.models.tf_model'['tf_model'] at line 51: [loading model from /home/loginov-ra/.deeppavlov/models/morpho_ru_syntagrus/model]\n"
     ]
    },
    {
     "name": "stdout",
     "output_type": "stream",
     "text": [
      "WARNING:tensorflow:From /home/loginov-ra/.local/lib/python3.6/site-packages/deeppavlov/core/models/tf_model.py:54: The name tf.train.Saver is deprecated. Please use tf.compat.v1.train.Saver instead.\n",
      "\n",
      "INFO:tensorflow:Restoring parameters from /home/loginov-ra/.deeppavlov/models/morpho_ru_syntagrus/model\n"
     ]
    },
    {
     "name": "stderr",
     "output_type": "stream",
     "text": [
      "2020-03-28 13:51:23.665 WARNING in 'deeppavlov.core.models.serializable'['serializable'] at line 52: No load path is set for UDPymorphyLemmatizer!\n",
      "2020-03-28 13:51:24.69 INFO in 'deeppavlov.core.data.simple_vocab'['simple_vocab'] at line 115: [loading vocabulary from /home/loginov-ra/.deeppavlov/models/syntax_ru_syntagrus/deps.dict]\n"
     ]
    },
    {
     "name": "stdout",
     "output_type": "stream",
     "text": [
      "WARNING:tensorflow:From /home/loginov-ra/.local/lib/python3.6/site-packages/deeppavlov/core/layers/tf_layers.py:157: LSTMCell.__init__ (from tensorflow.python.ops.rnn_cell_impl) is deprecated and will be removed in a future version.\n",
      "Instructions for updating:\n",
      "This class is equivalent as tf.keras.layers.LSTMCell, and will be replaced by that in Tensorflow 2.0.\n",
      "WARNING:tensorflow:From /home/loginov-ra/.local/lib/python3.6/site-packages/deeppavlov/core/layers/tf_layers.py:177: bidirectional_dynamic_rnn (from tensorflow.python.ops.rnn) is deprecated and will be removed in a future version.\n",
      "Instructions for updating:\n",
      "Please use `keras.layers.Bidirectional(keras.layers.RNN(cell))`, which is equivalent to this API\n",
      "WARNING:tensorflow:From /usr/local/lib/python3.6/dist-packages/tensorflow/python/ops/rnn.py:464: dynamic_rnn (from tensorflow.python.ops.rnn) is deprecated and will be removed in a future version.\n",
      "Instructions for updating:\n",
      "Please use `keras.layers.RNN(cell)`, which is equivalent to this API\n",
      "WARNING:tensorflow:From /usr/local/lib/python3.6/dist-packages/tensorflow/python/ops/rnn_cell_impl.py:961: calling Zeros.__init__ (from tensorflow.python.ops.init_ops) with dtype is deprecated and will be removed in a future version.\n",
      "Instructions for updating:\n",
      "Call initializer instance with the dtype argument instead of passing it to the constructor\n"
     ]
    },
    {
     "name": "stderr",
     "output_type": "stream",
     "text": [
      "2020-03-28 13:51:48.78 INFO in 'deeppavlov.core.models.tf_model'['tf_model'] at line 51: [loading model from /home/loginov-ra/.deeppavlov/models/syntax_ru_syntagrus/model_joint]\n"
     ]
    },
    {
     "name": "stdout",
     "output_type": "stream",
     "text": [
      "INFO:tensorflow:Restoring parameters from /home/loginov-ra/.deeppavlov/models/syntax_ru_syntagrus/model_joint\n"
     ]
    }
   ],
   "source": [
    "model = build_model(configs.morpho_tagger.BERT.morpho_ru_syntagrus_bert, download=False)\n",
    "syntax_model = build_model(configs.syntax.syntax_ru_syntagrus_bert, download=False)"
   ]
  },
  {
   "cell_type": "code",
   "execution_count": 8,
   "metadata": {},
   "outputs": [],
   "source": [
    "import file_preprocessing\n",
    "import importlib\n",
    "fp = importlib.reload(file_preprocessing)"
   ]
  },
  {
   "cell_type": "code",
   "execution_count": 9,
   "metadata": {},
   "outputs": [],
   "source": [
    "sent_reader = fp.SentenceReader(thesaurus, need_deeppavlov=True, deeppavlov_model=model,\n",
    "                                syntax_model=syntax_model)"
   ]
  },
  {
   "cell_type": "markdown",
   "metadata": {},
   "source": [
    "Тест парсинга предложений из файла"
   ]
  },
  {
   "cell_type": "code",
   "execution_count": 10,
   "metadata": {},
   "outputs": [
    {
     "name": "stdout",
     "output_type": "stream",
     "text": [
      "Processed ../data/Lenta/texts_tagged/20100709banks.txt. Recovered 2 sentences, lost 0 too long\n"
     ]
    }
   ],
   "source": [
    "parsed_sentences = sent_reader.process_file(\"../data/Lenta/texts_tagged/20100709banks.txt\", verbose=True)"
   ]
  },
  {
   "cell_type": "code",
   "execution_count": 11,
   "metadata": {},
   "outputs": [
    {
     "data": {
      "text/plain": [
       "{'initial': ['об',\n",
       "  'этом',\n",
       "  'заявил',\n",
       "  'директор',\n",
       "  'департамента',\n",
       "  'банка',\n",
       "  'россии',\n",
       "  'по',\n",
       "  'лицензированию',\n",
       "  'и',\n",
       "  'финансовому',\n",
       "  'оздоровлению',\n",
       "  'михаил',\n",
       "  'сухов',\n",
       "  ',',\n",
       "  'сообщает',\n",
       "  '\"',\n",
       "  'интерфакс',\n",
       "  '\"',\n",
       "  '.'],\n",
       " 'tagged_lemma': ['о',\n",
       "  'это',\n",
       "  'заявлять',\n",
       "  'директор',\n",
       "  'департамент',\n",
       "  'банк',\n",
       "  'россия',\n",
       "  'по',\n",
       "  'лицензированию',\n",
       "  'и',\n",
       "  'финансовый',\n",
       "  'оздоровление',\n",
       "  'михаил',\n",
       "  'сухов',\n",
       "  ',',\n",
       "  'сообщать',\n",
       "  '\"',\n",
       "  'интерфакс',\n",
       "  '\"',\n",
       "  '.'],\n",
       " 'multi': [['о',\n",
       "   'это',\n",
       "   'заявить',\n",
       "   'директор',\n",
       "   'департамент',\n",
       "   'банк россия',\n",
       "   'по',\n",
       "   'лицензирование',\n",
       "   'и',\n",
       "   'финансовый оздоровление',\n",
       "   'михаил',\n",
       "   'сухов',\n",
       "   ',',\n",
       "   'сообщать',\n",
       "   '\"',\n",
       "   'интерфакс',\n",
       "   '\"',\n",
       "   '.'],\n",
       "  [0, 1, 2, 3, 4, 5, 7, 8, 9, 11, 12, 13, 14, 15, 16, 17, 18, 19]],\n",
       " 'deeppavlov': ['о',\n",
       "  'это',\n",
       "  'заявить',\n",
       "  'директор',\n",
       "  'департамент',\n",
       "  'банк',\n",
       "  'россия',\n",
       "  'по',\n",
       "  'лицензирование',\n",
       "  'и',\n",
       "  'финансовый',\n",
       "  'оздоровление',\n",
       "  'михаил',\n",
       "  'сухов',\n",
       "  ',',\n",
       "  'сообщать',\n",
       "  '\"',\n",
       "  'интерфакс',\n",
       "  '\"',\n",
       "  '.'],\n",
       " 'syntax': ['0;1;case;об',\n",
       "  '1;2;obl;этом',\n",
       "  '2;-1;root;заявил',\n",
       "  '3;2;nsubj;директор',\n",
       "  '4;3;nmod;департамента',\n",
       "  '5;4;nmod;банка',\n",
       "  '6;5;nmod;россии',\n",
       "  '7;8;case;по',\n",
       "  '8;4;nmod;лицензированию',\n",
       "  '9;11;cc;и',\n",
       "  '10;11;amod;финансовому',\n",
       "  '11;8;conj;оздоровлению',\n",
       "  '12;3;appos;михаил',\n",
       "  '13;12;flat:name;сухов',\n",
       "  '14;15;punct;,',\n",
       "  '15;2;root;сообщает',\n",
       "  '16;17;punct;\"',\n",
       "  '17;15;nsubj;интерфакс',\n",
       "  '18;17;punct;\"',\n",
       "  '19;2;punct;.']}"
      ]
     },
     "execution_count": 11,
     "metadata": {},
     "output_type": "execute_result"
    }
   ],
   "source": [
    "parsed_sentences[1].to_json()"
   ]
  },
  {
   "cell_type": "markdown",
   "metadata": {},
   "source": [
    "Тест обработки всех файлов в директории"
   ]
  },
  {
   "cell_type": "code",
   "execution_count": 12,
   "metadata": {},
   "outputs": [],
   "source": [
    "fp.make_jsons_from_directory(sent_reader, \"test_from\", \"test_to_tree\", suffix=\"_with_tree\")"
   ]
  },
  {
   "cell_type": "code",
   "execution_count": null,
   "metadata": {},
   "outputs": [],
   "source": [
    "# make_jsons_from_directory(sent_reader, \"../data/Lenta/texts_tagged/\", \"../data/Lenta/texts_tagged_processed/\")"
   ]
  }
 ],
 "metadata": {
  "kernelspec": {
   "display_name": "Python 3",
   "language": "python",
   "name": "python3"
  },
  "language_info": {
   "codemirror_mode": {
    "name": "ipython",
    "version": 3
   },
   "file_extension": ".py",
   "mimetype": "text/x-python",
   "name": "python",
   "nbconvert_exporter": "python",
   "pygments_lexer": "ipython3",
   "version": "3.6.9"
  }
 },
 "nbformat": 4,
 "nbformat_minor": 2
}
