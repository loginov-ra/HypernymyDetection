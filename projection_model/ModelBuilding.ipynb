{
 "cells": [
  {
   "cell_type": "markdown",
   "metadata": {},
   "source": [
    "### Обучение матриц проекции\n",
    "\n",
    "Реализуем процесс обучения матриц проекции, который был предложен на SemEval CRIM. Для этого сначала требуется загрузить какие-нибудь эмбеддинги для слов и подобрать то, каких именно кандидатов требуется ранжировать при выдаче гиперонимов.\n",
    "\n",
    "Начнём с простой стратегии. Возьмём обученную модель FastText и загрузим эмбеддинги из неё. После этого будем для многословных термов усреднять эмбеддинги."
   ]
  },
  {
   "cell_type": "code",
   "execution_count": 259,
   "metadata": {},
   "outputs": [],
   "source": [
    "import sys\n",
    "import json\n",
    "from os.path import join\n",
    "import os\n",
    "sys.path.append(\"../\")\n",
    "import fasttext as ft\n",
    "from thesaurus_parsing.thesaurus_parser import ThesaurusParser\n",
    "from collections import Counter\n",
    "from tqdm import tqdm_notebook as tqdm\n",
    "import numpy as np\n",
    "import matplotlib.pyplot as plt\n",
    "from IPython.display import clear_output\n",
    "\n",
    "%matplotlib inline"
   ]
  },
  {
   "cell_type": "code",
   "execution_count": 143,
   "metadata": {},
   "outputs": [
    {
     "name": "stderr",
     "output_type": "stream",
     "text": [
      "Warning : `load_model` does not return WordVectorModel or SupervisedModel any more, but a `FastText` object which is very similar.\n"
     ]
    }
   ],
   "source": [
    "deeppavlov_embeddings = ft.load_model('../data/models/fasttext_deeppavlov.bin')"
   ]
  },
  {
   "cell_type": "code",
   "execution_count": 144,
   "metadata": {},
   "outputs": [
    {
     "data": {
      "text/plain": [
       "1572343"
      ]
     },
     "execution_count": 144,
     "metadata": {},
     "output_type": "execute_result"
    }
   ],
   "source": [
    "len(deeppavlov_embeddings.get_words())"
   ]
  },
  {
   "cell_type": "markdown",
   "metadata": {},
   "source": [
    "Мы видим, что здесь есть векторы для полутора миллионов слов. Конечно же, использовать их все, как кандидаты в гиперонимы, было бы хорошо. Но тем не менее, поскольку метод в основном похож на kNN, это будет очень долго.\n",
    "\n",
    "Вследствие этого, необходимо, кроме сущностей тезауруса, оставить лишь некоторый топ в качестве кандидатов в гиперонимы. Этот топ можно подобрать по tf-idf. Но для начала надо построить векторы для сущностей из тезауруса."
   ]
  },
  {
   "cell_type": "code",
   "execution_count": 145,
   "metadata": {},
   "outputs": [],
   "source": [
    "thesaurus = ThesaurusParser(\"../data/RuThes\", need_closure=False)"
   ]
  },
  {
   "cell_type": "code",
   "execution_count": 146,
   "metadata": {},
   "outputs": [],
   "source": [
    "vocab_embeddings = dict()"
   ]
  },
  {
   "cell_type": "code",
   "execution_count": 147,
   "metadata": {},
   "outputs": [],
   "source": [
    "for _, entry_dict in thesaurus.text_entries.items():\n",
    "    lemma = entry_dict['lemma']\n",
    "    vocab_embeddings[lemma] = deeppavlov_embeddings.get_sentence_vector(lemma)"
   ]
  },
  {
   "cell_type": "code",
   "execution_count": 148,
   "metadata": {},
   "outputs": [
    {
     "data": {
      "text/plain": [
       "110176"
      ]
     },
     "execution_count": 148,
     "metadata": {},
     "output_type": "execute_result"
    }
   ],
   "source": [
    "len(vocab_embeddings)"
   ]
  },
  {
   "cell_type": "markdown",
   "metadata": {},
   "source": [
    "Давайте пройдём по всем текстам, которые загрузились на данный момент, для слов, которые есть в словаре, посчитаем частоту слов"
   ]
  },
  {
   "cell_type": "code",
   "execution_count": 149,
   "metadata": {},
   "outputs": [],
   "source": [
    "DIR_PATH = \"/home/loginov-ra/MIPT/HypernymyDetection/data/Lenta/texts_tagged_processed_tree\"\n",
    "file_list = os.listdir(DIR_PATH)\n",
    "file_list = [join(DIR_PATH, filename) for filename in file_list]"
   ]
  },
  {
   "cell_type": "code",
   "execution_count": 150,
   "metadata": {},
   "outputs": [
    {
     "data": {
      "application/vnd.jupyter.widget-view+json": {
       "model_id": "6f0e9ee87230461a9019f1d0ef2466da"
      }
     },
     "metadata": {},
     "output_type": "display_data"
    },
    {
     "name": "stdout",
     "output_type": "stream",
     "text": [
      "\n"
     ]
    }
   ],
   "source": [
    "word_ctr = Counter()\n",
    "no_deeppavlov = 0\n",
    "\n",
    "for filename in tqdm(file_list):\n",
    "    with open(filename, encoding='utf-8') as sentences_file:\n",
    "        sentences = json.load(sentences_file)\n",
    "        for sent in sentences:\n",
    "            if 'deeppavlov' not in sent:\n",
    "                no_deeppavlov += 1\n",
    "                continue\n",
    "            \n",
    "            multitokens, _ = sent['multi']\n",
    "            for t in multitokens:\n",
    "                word_ctr[t] += 1"
   ]
  },
  {
   "cell_type": "code",
   "execution_count": 151,
   "metadata": {},
   "outputs": [
    {
     "name": "stdout",
     "output_type": "stream",
     "text": [
      "503\n"
     ]
    }
   ],
   "source": [
    "print(no_deeppavlov)"
   ]
  },
  {
   "cell_type": "code",
   "execution_count": 152,
   "metadata": {},
   "outputs": [
    {
     "data": {
      "text/plain": [
       "[(',', 330573),\n",
       " ('.', 281677),\n",
       " ('в', 195348),\n",
       " ('\"', 188495),\n",
       " ('на', 79988),\n",
       " ('и', 78751),\n",
       " ('-', 70551),\n",
       " ('с', 49500),\n",
       " ('что', 46036),\n",
       " ('быть', 45393),\n",
       " ('по', 44794),\n",
       " ('год', 36389),\n",
       " ('о', 33339),\n",
       " ('не', 30394),\n",
       " (')', 30202),\n",
       " ('(', 29806),\n",
       " ('который', 26841),\n",
       " ('он', 25806),\n",
       " (':', 24555),\n",
       " ('это', 23760),\n",
       " ('из', 23661),\n",
       " ('тот', 20564),\n",
       " ('за', 18168),\n",
       " ('как', 18110),\n",
       " ('один', 17231),\n",
       " ('--', 16571),\n",
       " ('к', 14900),\n",
       " ('сообщать', 14694)]"
      ]
     },
     "execution_count": 152,
     "metadata": {},
     "output_type": "execute_result"
    }
   ],
   "source": [
    "word_ctr.most_common(n=28)"
   ]
  },
  {
   "cell_type": "markdown",
   "metadata": {},
   "source": [
    "Видим, что для первых $27$ слов нет необходимости искать гиперонимы, для остальных уже может быть. Поэтому возьмёи пока первые $100000$ слов для работы с ними, посчитаем их эмбеддинги и добавим в словарь."
   ]
  },
  {
   "cell_type": "code",
   "execution_count": 153,
   "metadata": {},
   "outputs": [],
   "source": [
    "additional_words = word_ctr.most_common(n=100000)[27:]"
   ]
  },
  {
   "cell_type": "code",
   "execution_count": 154,
   "metadata": {},
   "outputs": [],
   "source": [
    "for word, _ in additional_words:\n",
    "    vocab_embeddings[word] = deeppavlov_embeddings.get_word_vector(word)"
   ]
  },
  {
   "cell_type": "markdown",
   "metadata": {},
   "source": [
    "Удалим модель за ненадобностью"
   ]
  },
  {
   "cell_type": "code",
   "execution_count": 155,
   "metadata": {},
   "outputs": [],
   "source": [
    "del deeppavlov_embeddings"
   ]
  },
  {
   "cell_type": "code",
   "execution_count": 156,
   "metadata": {},
   "outputs": [
    {
     "data": {
      "text/plain": [
       "172996"
      ]
     },
     "execution_count": 156,
     "metadata": {},
     "output_type": "execute_result"
    }
   ],
   "source": [
    "len(vocab_embeddings)"
   ]
  },
  {
   "cell_type": "markdown",
   "metadata": {},
   "source": [
    "Видим, что было пересечение, и добавилась где-то 61000 слов\n",
    "_________________\n",
    "\n",
    "**Определение модели**\n",
    "\n",
    "Определим модель, в которой будет 5 матриц проекции и логистическая регрессия на косинусных расстояниях до проекций."
   ]
  },
  {
   "cell_type": "code",
   "execution_count": 157,
   "metadata": {},
   "outputs": [],
   "source": [
    "import torch\n",
    "import torch.nn as nn\n",
    "import torch.nn.functional as F\n",
    "from torch.optim import Adam\n",
    "from torch.utils.data import Dataset, DataLoader"
   ]
  },
  {
   "cell_type": "code",
   "execution_count": 158,
   "metadata": {},
   "outputs": [],
   "source": [
    "device = 'cuda' if torch.cuda.is_available() else 'cpu'"
   ]
  },
  {
   "cell_type": "code",
   "execution_count": 159,
   "metadata": {},
   "outputs": [
    {
     "data": {
      "text/plain": [
       "'cpu'"
      ]
     },
     "execution_count": 159,
     "metadata": {},
     "output_type": "execute_result"
    }
   ],
   "source": [
    "device"
   ]
  },
  {
   "cell_type": "code",
   "execution_count": 160,
   "metadata": {},
   "outputs": [],
   "source": [
    "class CRIMModel(nn.Module):\n",
    "    def __init__(self, n_matrices=5, embedding_dim=300, init_sigma=0.01):\n",
    "        super().__init__()\n",
    "        self.embedding_dim = embedding_dim\n",
    "        self.n_matrices = n_matrices\n",
    "        self.init_sigma = init_sigma\n",
    "        \n",
    "        matrix_shape = (n_matrices, 1, embedding_dim, embedding_dim)\n",
    "        self.matrices = torch.FloatTensor(size=matrix_shape, device=device)\n",
    "        self.prob_layer = nn.Linear(in_features=n_matrices, out_features=1)\n",
    "        \n",
    "        for i in range(n_matrices):\n",
    "            eye_tensor = torch.FloatTensor(size=(embedding_dim, embedding_dim), device=device)\n",
    "            noise_tensor = torch.FloatTensor(size=(embedding_dim, embedding_dim), device=device)\n",
    "            torch.nn.init.eye_(eye_tensor)\n",
    "            torch.nn.init.normal_(noise_tensor, std=init_sigma)\n",
    "            self.matrices[i][0] = eye_tensor + noise_tensor\n",
    "            \n",
    "        torch.nn.init.normal_(self.prob_layer.weight, std=0.1)\n",
    "        self.matrices = self.matrices.requires_grad_()\n",
    "        \n",
    "    def forward(self, input_dict):\n",
    "        candidate = input_dict['candidate']\n",
    "        candidate_batch = candidate.shape[0]\n",
    "        candidate = candidate.view((candidate_batch, 1, self.embedding_dim))\n",
    "        batch = input_dict['batch'].unsqueeze(-1)\n",
    "        batch_size = batch.shape[0]\n",
    "        projections = torch.matmul(self.matrices, batch).permute(1, 0, 2, 3).squeeze(-1)\n",
    "        similarities = F.cosine_similarity(projections, candidate, dim=-1)\n",
    "        logits = self.prob_layer(similarities)\n",
    "        probas = torch.sigmoid(logits)\n",
    "        return probas"
   ]
  },
  {
   "cell_type": "code",
   "execution_count": 161,
   "metadata": {},
   "outputs": [],
   "source": [
    "model = CRIMModel()"
   ]
  },
  {
   "cell_type": "code",
   "execution_count": 162,
   "metadata": {},
   "outputs": [],
   "source": [
    "args = {\n",
    "    'batch': torch.randn(64, 300),\n",
    "    'candidate': torch.randn(1, 300)\n",
    "}"
   ]
  },
  {
   "cell_type": "code",
   "execution_count": 163,
   "metadata": {},
   "outputs": [],
   "source": [
    "probas = model(args)"
   ]
  },
  {
   "cell_type": "code",
   "execution_count": 164,
   "metadata": {},
   "outputs": [],
   "source": [
    "optimizer = Adam(model.parameters(), lr=1)"
   ]
  },
  {
   "cell_type": "code",
   "execution_count": 135,
   "metadata": {},
   "outputs": [
    {
     "name": "stdout",
     "output_type": "stream",
     "text": [
      "Loss: 25.325897\n",
      "Loss: 12.469554\n",
      "Loss: 5.4112926\n",
      "Loss: 2.321445\n",
      "Loss: 1.0680344\n",
      "Loss: 0.53654784\n",
      "Loss: 0.29242\n",
      "Loss: 0.17099519\n",
      "Loss: 0.10618677\n",
      "Loss: 0.06942666\n",
      "Loss: 0.047455765\n",
      "Loss: 0.03371688\n",
      "Loss: 0.024781276\n",
      "Loss: 0.01876633\n",
      "Loss: 0.014593014\n",
      "Loss: 0.011618889\n",
      "Loss: 0.009448345\n",
      "Loss: 0.007830288\n",
      "Loss: 0.006600968\n",
      "Loss: 0.0056509404\n",
      "Loss: 0.0049054106\n",
      "Loss: 0.004312218\n",
      "Loss: 0.0038343102\n",
      "Loss: 0.0034449147\n",
      "Loss: 0.0031243796\n",
      "Loss: 0.0028580735\n",
      "Loss: 0.0026349549\n",
      "Loss: 0.002446588\n",
      "Loss: 0.002286452\n",
      "Loss: 0.0021494555\n",
      "Loss: 0.0020315787\n",
      "Loss: 0.0019296202\n",
      "Loss: 0.0018410089\n",
      "Loss: 0.0017636613\n",
      "Loss: 0.0016958753\n",
      "Loss: 0.0016362526\n"
     ]
    },
    {
     "ename": "KeyboardInterrupt",
     "evalue": "",
     "output_type": "error",
     "traceback": [
      "\u001b[0;31m---------------------------------------------------------------------------\u001b[0m",
      "\u001b[0;31mKeyboardInterrupt\u001b[0m                         Traceback (most recent call last)",
      "\u001b[0;32m<ipython-input-135-86fa3c98454d>\u001b[0m in \u001b[0;36m<module>\u001b[0;34m\u001b[0m\n\u001b[1;32m      1\u001b[0m \u001b[0;32mwhile\u001b[0m \u001b[0;32mTrue\u001b[0m\u001b[0;34m:\u001b[0m\u001b[0;34m\u001b[0m\u001b[0;34m\u001b[0m\u001b[0m\n\u001b[0;32m----> 2\u001b[0;31m     \u001b[0mprobas\u001b[0m \u001b[0;34m=\u001b[0m \u001b[0mmodel\u001b[0m\u001b[0;34m(\u001b[0m\u001b[0margs\u001b[0m\u001b[0;34m)\u001b[0m\u001b[0;34m\u001b[0m\u001b[0;34m\u001b[0m\u001b[0m\n\u001b[0m\u001b[1;32m      3\u001b[0m     \u001b[0mloss\u001b[0m \u001b[0;34m=\u001b[0m \u001b[0mprobas\u001b[0m\u001b[0;34m.\u001b[0m\u001b[0msum\u001b[0m\u001b[0;34m(\u001b[0m\u001b[0;34m)\u001b[0m\u001b[0;34m\u001b[0m\u001b[0;34m\u001b[0m\u001b[0m\n\u001b[1;32m      4\u001b[0m     \u001b[0mprint\u001b[0m\u001b[0;34m(\u001b[0m\u001b[0;34m'Loss:'\u001b[0m\u001b[0;34m,\u001b[0m \u001b[0mloss\u001b[0m\u001b[0;34m.\u001b[0m\u001b[0mdetach\u001b[0m\u001b[0;34m(\u001b[0m\u001b[0;34m)\u001b[0m\u001b[0;34m.\u001b[0m\u001b[0mnumpy\u001b[0m\u001b[0;34m(\u001b[0m\u001b[0;34m)\u001b[0m\u001b[0;34m)\u001b[0m\u001b[0;34m\u001b[0m\u001b[0;34m\u001b[0m\u001b[0m\n\u001b[1;32m      5\u001b[0m     \u001b[0mloss\u001b[0m\u001b[0;34m.\u001b[0m\u001b[0mbackward\u001b[0m\u001b[0;34m(\u001b[0m\u001b[0;34m)\u001b[0m\u001b[0;34m\u001b[0m\u001b[0;34m\u001b[0m\u001b[0m\n",
      "\u001b[0;32m~/.local/lib/python3.6/site-packages/torch/nn/modules/module.py\u001b[0m in \u001b[0;36m__call__\u001b[0;34m(self, *input, **kwargs)\u001b[0m\n\u001b[1;32m    545\u001b[0m             \u001b[0mresult\u001b[0m \u001b[0;34m=\u001b[0m \u001b[0mself\u001b[0m\u001b[0;34m.\u001b[0m\u001b[0m_slow_forward\u001b[0m\u001b[0;34m(\u001b[0m\u001b[0;34m*\u001b[0m\u001b[0minput\u001b[0m\u001b[0;34m,\u001b[0m \u001b[0;34m**\u001b[0m\u001b[0mkwargs\u001b[0m\u001b[0;34m)\u001b[0m\u001b[0;34m\u001b[0m\u001b[0;34m\u001b[0m\u001b[0m\n\u001b[1;32m    546\u001b[0m         \u001b[0;32melse\u001b[0m\u001b[0;34m:\u001b[0m\u001b[0;34m\u001b[0m\u001b[0;34m\u001b[0m\u001b[0m\n\u001b[0;32m--> 547\u001b[0;31m             \u001b[0mresult\u001b[0m \u001b[0;34m=\u001b[0m \u001b[0mself\u001b[0m\u001b[0;34m.\u001b[0m\u001b[0mforward\u001b[0m\u001b[0;34m(\u001b[0m\u001b[0;34m*\u001b[0m\u001b[0minput\u001b[0m\u001b[0;34m,\u001b[0m \u001b[0;34m**\u001b[0m\u001b[0mkwargs\u001b[0m\u001b[0;34m)\u001b[0m\u001b[0;34m\u001b[0m\u001b[0;34m\u001b[0m\u001b[0m\n\u001b[0m\u001b[1;32m    548\u001b[0m         \u001b[0;32mfor\u001b[0m \u001b[0mhook\u001b[0m \u001b[0;32min\u001b[0m \u001b[0mself\u001b[0m\u001b[0;34m.\u001b[0m\u001b[0m_forward_hooks\u001b[0m\u001b[0;34m.\u001b[0m\u001b[0mvalues\u001b[0m\u001b[0;34m(\u001b[0m\u001b[0;34m)\u001b[0m\u001b[0;34m:\u001b[0m\u001b[0;34m\u001b[0m\u001b[0;34m\u001b[0m\u001b[0m\n\u001b[1;32m    549\u001b[0m             \u001b[0mhook_result\u001b[0m \u001b[0;34m=\u001b[0m \u001b[0mhook\u001b[0m\u001b[0;34m(\u001b[0m\u001b[0mself\u001b[0m\u001b[0;34m,\u001b[0m \u001b[0minput\u001b[0m\u001b[0;34m,\u001b[0m \u001b[0mresult\u001b[0m\u001b[0;34m)\u001b[0m\u001b[0;34m\u001b[0m\u001b[0;34m\u001b[0m\u001b[0m\n",
      "\u001b[0;32m<ipython-input-128-0fe459c65244>\u001b[0m in \u001b[0;36mforward\u001b[0;34m(self, input_dict)\u001b[0m\n\u001b[1;32m     26\u001b[0m         \u001b[0mbatch\u001b[0m \u001b[0;34m=\u001b[0m \u001b[0minput_dict\u001b[0m\u001b[0;34m[\u001b[0m\u001b[0;34m'batch'\u001b[0m\u001b[0;34m]\u001b[0m\u001b[0;34m.\u001b[0m\u001b[0munsqueeze\u001b[0m\u001b[0;34m(\u001b[0m\u001b[0;34m-\u001b[0m\u001b[0;36m1\u001b[0m\u001b[0;34m)\u001b[0m\u001b[0;34m\u001b[0m\u001b[0;34m\u001b[0m\u001b[0m\n\u001b[1;32m     27\u001b[0m         \u001b[0mbatch_size\u001b[0m \u001b[0;34m=\u001b[0m \u001b[0mbatch\u001b[0m\u001b[0;34m.\u001b[0m\u001b[0mshape\u001b[0m\u001b[0;34m[\u001b[0m\u001b[0;36m0\u001b[0m\u001b[0;34m]\u001b[0m\u001b[0;34m\u001b[0m\u001b[0;34m\u001b[0m\u001b[0m\n\u001b[0;32m---> 28\u001b[0;31m         \u001b[0mprojections\u001b[0m \u001b[0;34m=\u001b[0m \u001b[0mtorch\u001b[0m\u001b[0;34m.\u001b[0m\u001b[0mmatmul\u001b[0m\u001b[0;34m(\u001b[0m\u001b[0mself\u001b[0m\u001b[0;34m.\u001b[0m\u001b[0mmatrices\u001b[0m\u001b[0;34m,\u001b[0m \u001b[0mbatch\u001b[0m\u001b[0;34m)\u001b[0m\u001b[0;34m.\u001b[0m\u001b[0mpermute\u001b[0m\u001b[0;34m(\u001b[0m\u001b[0;36m1\u001b[0m\u001b[0;34m,\u001b[0m \u001b[0;36m0\u001b[0m\u001b[0;34m,\u001b[0m \u001b[0;36m2\u001b[0m\u001b[0;34m,\u001b[0m \u001b[0;36m3\u001b[0m\u001b[0;34m)\u001b[0m\u001b[0;34m.\u001b[0m\u001b[0msqueeze\u001b[0m\u001b[0;34m(\u001b[0m\u001b[0;34m-\u001b[0m\u001b[0;36m1\u001b[0m\u001b[0;34m)\u001b[0m\u001b[0;34m\u001b[0m\u001b[0;34m\u001b[0m\u001b[0m\n\u001b[0m\u001b[1;32m     29\u001b[0m         \u001b[0msimilarities\u001b[0m \u001b[0;34m=\u001b[0m \u001b[0mF\u001b[0m\u001b[0;34m.\u001b[0m\u001b[0mcosine_similarity\u001b[0m\u001b[0;34m(\u001b[0m\u001b[0mprojections\u001b[0m\u001b[0;34m,\u001b[0m \u001b[0mcandidate\u001b[0m\u001b[0;34m,\u001b[0m \u001b[0mdim\u001b[0m\u001b[0;34m=\u001b[0m\u001b[0;34m-\u001b[0m\u001b[0;36m1\u001b[0m\u001b[0;34m)\u001b[0m\u001b[0;34m\u001b[0m\u001b[0;34m\u001b[0m\u001b[0m\n\u001b[1;32m     30\u001b[0m         \u001b[0mlogits\u001b[0m \u001b[0;34m=\u001b[0m \u001b[0mself\u001b[0m\u001b[0;34m.\u001b[0m\u001b[0mprob_layer\u001b[0m\u001b[0;34m(\u001b[0m\u001b[0msimilarities\u001b[0m\u001b[0;34m)\u001b[0m\u001b[0;34m\u001b[0m\u001b[0;34m\u001b[0m\u001b[0m\n",
      "\u001b[0;31mKeyboardInterrupt\u001b[0m: "
     ]
    }
   ],
   "source": [
    "while True:\n",
    "    probas = model(args)\n",
    "    loss = probas.sum()\n",
    "    print('Loss:', loss.detach().numpy())\n",
    "    loss.backward()\n",
    "    optimizer.step()\n",
    "    optimizer.zero_grad()"
   ]
  },
  {
   "cell_type": "markdown",
   "metadata": {},
   "source": [
    "Во всяком случае, на текущий момент возможно переобучить модель под нужные значения\n",
    "_________________\n",
    "\n",
    "**Цикл обучения модели**"
   ]
  },
  {
   "cell_type": "markdown",
   "metadata": {},
   "source": [
    "Для того, чтобы обучить модель, надо сделать следующие шаги:\n",
    "\n",
    "* Добавить пары корректных гипонимов-гиперонимов\n",
    "* Для каждого положительного добавить несколько отрицательных (пока просто случайные слова)\n",
    "* Добавить вектор правильных ответов\n",
    "\n",
    "Сделаем из этого `torch.Dataset`"
   ]
  },
  {
   "cell_type": "code",
   "execution_count": 222,
   "metadata": {},
   "outputs": [],
   "source": [
    "class HypernymQueriesDataset(Dataset):\n",
    "    def load_train_items(self, thesaurus, vocab):\n",
    "        self.train_items = []\n",
    "        for hyponym, hypernyms in tqdm(thesaurus.hypernyms_dict.items()):\n",
    "            for hypernym in hypernyms:\n",
    "                self.train_items.append([hyponym, hypernym, True])\n",
    "            \n",
    "            negative_examples = np.random.choice(list(vocab.keys()), size=self.n_negative * len(hypernyms))\n",
    "            for negative in negative_examples:\n",
    "                self.train_items.append([hyponym, negative, False])\n",
    "                \n",
    "            if self.max_pairs is not None and len(self.train_items) > self.max_pairs:\n",
    "                break\n",
    "    \n",
    "    def __init__(self, thesaurus, vocab, n_negative=3, max_pairs=None):\n",
    "        self.n_negative = n_negative\n",
    "        self.thesaurus = thesaurus\n",
    "        self.vocab = vocab\n",
    "        self.max_pairs = max_pairs\n",
    "        \n",
    "        self.load_train_items(thesaurus, vocab)\n",
    "        \n",
    "    def __len__(self):\n",
    "        return len(self.train_items)\n",
    "    \n",
    "    def __getitem__(self, idx):\n",
    "        hyponym, hypernym, label = self.train_items[idx]\n",
    "        return (self.vocab[hyponym], self.vocab[hypernym], label)"
   ]
  },
  {
   "cell_type": "code",
   "execution_count": 285,
   "metadata": {},
   "outputs": [
    {
     "data": {
      "application/vnd.jupyter.widget-view+json": {
       "model_id": "c7fda0823a664289b190a71b44465497"
      }
     },
     "metadata": {},
     "output_type": "display_data"
    }
   ],
   "source": [
    "dataset = HypernymQueriesDataset(thesaurus, vocab_embeddings, max_pairs=1000000)"
   ]
  },
  {
   "cell_type": "code",
   "execution_count": 301,
   "metadata": {},
   "outputs": [],
   "source": [
    "model = CRIMModel(n_matrices=24)\n",
    "optimizer = Adam(model.parameters(), lr=3e-4)\n",
    "n_epochs = 4\n",
    "batch_size = 16\n",
    "plot_frequency = 40"
   ]
  },
  {
   "cell_type": "code",
   "execution_count": 302,
   "metadata": {},
   "outputs": [],
   "source": [
    "data_loader = DataLoader(dataset, batch_size=batch_size, shuffle=True)"
   ]
  },
  {
   "cell_type": "code",
   "execution_count": null,
   "metadata": {},
   "outputs": [
    {
     "data": {
      "image/png": "[encoded data removed]",
      "text/plain": [
       "<Figure size 864x504 with 1 Axes>"
      ]
     },
     "metadata": {
      "needs_background": "light"
     },
     "output_type": "display_data"
    }
   ],
   "source": [
    "loss_history = []\n",
    "\n",
    "for epoch in range(n_epochs):\n",
    "    print('Epoch {}. Started training.'.format(epoch + 1))\n",
    "\n",
    "    for it, batch in tqdm(enumerate(data_loader)):\n",
    "        hyponyms, candidates, labels = batch\n",
    "\n",
    "        model_batch = {\n",
    "            'batch': hyponyms,\n",
    "            'candidate': candidates\n",
    "        }\n",
    "\n",
    "        labels = labels.float()\n",
    "        probas = model(model_batch).squeeze()\n",
    "        probas = torch.clamp(probas, 1e-5, 1. - 1e-5)\n",
    "        loss = torch.sum(labels * torch.log(probas) + (1. - labels) * torch.log(1. - probas))\n",
    "        loss_history.append(loss.detach().numpy())\n",
    "        \n",
    "        if len(loss_history) % plot_frequency == 0:\n",
    "            print(loss)\n",
    "            clear_output(wait=True)\n",
    "            plt.figure(figsize=(12, 7))\n",
    "            plt.title('Loss history', fontsize=18)\n",
    "            plt.xlabel('Iteration', fontsize=15)\n",
    "            plt.ylabel('CE loss', fontsize=15)\n",
    "            plt.plot(np.array(loss_history))\n",
    "            plt.show()\n",
    "        \n",
    "        loss.backward()\n",
    "        optimizer.step()\n",
    "        optimizer.zero_grad()"
   ]
  },
  {
   "cell_type": "code",
   "execution_count": null,
   "metadata": {},
   "outputs": [],
   "source": []
  }
 ],
 "metadata": {
  "kernelspec": {
   "display_name": "Python 3",
   "language": "python",
   "name": "python3"
  },
  "language_info": {
   "codemirror_mode": {
    "name": "ipython",
    "version": 3
   },
   "file_extension": ".py",
   "mimetype": "text/x-python",
   "name": "python",
   "nbconvert_exporter": "python",
   "pygments_lexer": "ipython3",
   "version": "3.6.9"
  }
 },
 "nbformat": 4,
 "nbformat_minor": 2
}
